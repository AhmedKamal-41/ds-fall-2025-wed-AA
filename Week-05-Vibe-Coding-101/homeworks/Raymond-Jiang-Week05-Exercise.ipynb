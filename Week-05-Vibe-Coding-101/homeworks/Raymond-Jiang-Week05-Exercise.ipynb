{
 "cells": [
  {
   "cell_type": "markdown",
   "metadata": {},
   "source": [
    "# Vibe Coding: Real-World Data Cleaning Challenge\n",
    "\n",
    "## The Mission\n",
    "\n",
    "You're a Data Analyst at **TechSalary Insights**. Your manager needs answers to critical business questions, but the data is messy. Your job is to clean it and provide accurate insights.\n",
    "\n",
    "**The catch:** You must figure out how to clean the data yourself. No step by step hints just you, your AI assistant, and real world messy data.\n",
    "\n",
    "---\n",
    "\n",
    "## The Dataset: Ask A Manager Salary Survey 2021\n",
    "\n",
    "**Location:** `../Week-02-Pandas-Part-2-and-DS-Overview/data/Ask A Manager Salary Survey 2021 (Responses) - Form Responses 1.tsv`\n",
    "\n",
    "This is **real survey data** from Ask A Manager's 2021 salary survey with over 28,000 responses from working professionals. The data comes from this survey: https://www.askamanager.org/2021/04/how-much-money-do-you-make-4.html\n",
    "\n",
    "**Why this dataset is perfect for vibe coding:**\n",
    "- Real human responses (inconsistent formatting)\n",
    "- Multiple currencies and formats  \n",
    "- Messy job titles and location data\n",
    "- Missing and invalid entries\n",
    "- Requires business judgment calls\n",
    "\n",
    "---\n",
    "\n",
    "## Your Business Questions\n",
    "\n",
    "Answer these **exact questions** with clean data. There's only one correct answer for each:\n",
    "\n",
    "### Core Questions (Required):\n",
    "1. **What is the median salary for Software Engineers in the United States?** \n",
    "2. **Which US state has the highest average salary for tech workers?**\n",
    "3. **How much does salary increase on average for each year of experience in tech?**\n",
    "4. **Which industry (besides tech) has the highest median salary?**\n",
    "\n",
    "### Bonus Questions (If time permits):\n",
    "5. **What's the salary gap between men and women in tech roles?**\n",
    "6. **Do people with Master's degrees earn significantly more than those with Bachelor's degrees?**\n",
    "\n",
    "**Success Criteria:** Your final answers will be compared against the \"official\" results. Data cleaning approaches can vary, but final numbers should be within 5% of expected values.\n"
   ]
  },
  {
   "cell_type": "markdown",
   "metadata": {},
   "source": [
    "---\n",
    "# Your Work Starts Here\n",
    "\n",
    "## Step 0: Create Your Plan\n",
    "**Before writing any code, use Cursor to create your todo plan. Then paste it here:**\n",
    "\n",
    "## My Data Cleaning Plan\n",
    "\n",
    "My Data Cleaning Plan\n",
    "Define goals and scope\n",
    "\n",
    "Core questions: pay levels by job title, industry, location, experience; total comp distributions; remote vs on-site; company size effects; trends by education and tenure.\n",
    "Assumptions: raw is 2021 survey; we’ll convert all comp to 2021 USD using annual average FX.\n",
    "Set up project and data inventory\n",
    "\n",
    "Create data/raw, data/interim, data/processed, reports, docs.\n",
    "Save raw as data/raw/askamanager_2021.csv (no edits).\n",
    "Draft initial data dictionary in docs/data_dictionary.md with column names, types, and meaning.\n",
    "Profile the raw dataset\n",
    "\n",
    "Inspect row count, unique respondents, duplicate keys, null rates, basic distributions for salary, additional comp, currency, country, job title, industry.\n",
    "Flag messy fields: ranges (e.g., “80–90k”), text with “k”, commas, mixed currencies, free-text locations and titles.\n",
    "Standardize schema\n",
    "\n",
    "Normalize column names to snake_case; trim whitespace; unify yes/no values to booleans; parse dates.\n",
    "Coerce base types: numeric, categorical, string.\n",
    "Normalize compensation (critical)\n",
    "\n",
    "Parse annual_salary and additional_compensation:\n",
    "Remove symbols, commas, “k/K”, ranges (take mid or split strategy), notes in parentheses.\n",
    "Currency handling:\n",
    "Use currency or currency_other; map to ISO codes.\n",
    "Convert to USD with 2021 annual average FX; document source.\n",
    "Compute total_comp_usd = base_salary_usd + additional_comp_usd.\n",
    "Validation: 0 < base ≤ 5,000,000; total_comp ≥ base; drop or flag impossible values.\n",
    "Location harmonization\n",
    "\n",
    "Split and trim country, state, city; map to ISO-3166 (country) and USPS (US states).\n",
    "Derive is_us, us_region, metro_guess (if city/state present).\n",
    "Standardize remote status (remote/hybrid/on-site) if available.\n",
    "Validation: country coverage ≥ 98%; unknowns bucketed as Unknown.\n",
    "Job title and seniority normalization\n",
    "\n",
    "Clean titles (case, punctuation); remove employer names and extraneous terms.\n",
    "Extract seniority (Intern, Junior, Mid, Senior, Lead, Manager, Director, VP, C-level) into separate field.\n",
    "Map titles to normalized roles (e.g., Software Engineer, Data Analyst, Product Manager) with a lookup table.\n",
    "Validation: top 100 raw titles mapped; ≥90% rows have a normalized role or Other.\n",
    "Industry and company attributes\n",
    "\n",
    "Map free-text industry to a controlled list (10–20 buckets).\n",
    "Normalize company size (employee count bands), company type (public/private/non-profit/gov).\n",
    "Validation: bucket coverage ≥95%.\n",
    "Experience and tenure\n",
    "\n",
    "Parse years_experience and years_with_employer to numeric; bucket to ranges.\n",
    "Derive seniority_level cross-checking experience and title.\n",
    "Validation: non-negative, reasonable caps (e.g., ≤ 60).\n",
    "Handle missing data\n",
    "\n",
    "Decide per-field strategy: drop, impute (median for numeric within role/region), or set to Unknown.\n",
    "Document rationale in docs/data_quality_notes.md.\n",
    "Outliers and anomalies\n",
    "\n",
    "Detect with log-scale IQR within role×country (or role×US_region).\n",
    "Winsorize or exclude extreme outliers; keep an audit trail in reports/row_exclusions.csv.\n",
    "Feature engineering (analysis-ready)\n",
    "\n",
    "Create pay_band (deciles by role), cost_level (optional), role_family, experience_bucket, company_size_bucket, remote_flag.\n",
    "Compute ppp_adjusted_comp (optional) if PPP index available; otherwise skip.\n",
    "Quality assurance\n",
    "\n",
    "Row reconciliation: raw rows = kept + dropped.\n",
    "Spot checks: 20 sampled records before/after cleaning.\n",
    "Aggregate sanity: median comp by role and country within expected ranges; no negative or null totals in analysis set.\n",
    "Outputs\n",
    "\n",
    "data/processed/salary_clean.parquet (typed, deduped, analysis-ready).\n",
    "data/interim/mappings/* for title/industry lookups.\n",
    "docs/data_dictionary.md, docs/data_quality_notes.md, reports/qa_summary.md.\n",
    "Initial insights deliverables\n",
    "\n",
    "Tables/figures: comp by role, role×location, experience curves, remote premium, company size impact.\n",
    "Executive summary slide with 5–7 key findings and caveats.\n",
    "Key early decisions to document\n",
    "\n",
    "FX rate source and handling for missing currencies.\n",
    "Range parsing policy and thresholds for exclusion.\n",
    "Title/industry mapping coverage targets and fallback buckets.\n",
    "Reproducibility\n",
    "\n",
    "Lock environment; parameterize file paths; write seeds for any stochastic steps.\n",
    "Version all lookup tables and exclusions.\n",
    "Summary:\n",
    "\n",
    "A phased checklist to clean, normalize, and validate the 2021 survey into an analysis-ready dataset with documented assumptions, mappings, and QA.\n",
    "Focus areas are compensation parsing/currency conversion, location/title normalization, and robust outlier handling to support reliable business insights.\n"
   ]
  },
  {
   "cell_type": "markdown",
   "metadata": {},
   "source": [
    "## Step 1: Data Loading and Exploration\n",
    "\n",
    "Start here! Load the dataset and get familiar with what you're working with.\n"
   ]
  },
  {
   "cell_type": "code",
   "execution_count": null,
   "metadata": {},
   "outputs": [],
   "source": [
    "# Import necessary libraries\n",
    "import pandas as pd\n",
    "import numpy as np\n",
    "import matplotlib.pyplot as plt\n",
    "import seaborn as sns\n"
   ]
  },
  {
   "cell_type": "markdown",
   "metadata": {},
   "source": [
    "## Step 2: Data Cleaning\n"
   ]
  },
  {
   "cell_type": "code",
   "execution_count": null,
   "metadata": {},
   "outputs": [],
   "source": [
    "\n"
   ]
  },
  {
   "cell_type": "markdown",
   "metadata": {},
   "source": [
    "## Step 3: Business Questions Analysis\n",
    "\n",
    "Now answer those important business questions!\n"
   ]
  },
  {
   "cell_type": "code",
   "execution_count": null,
   "metadata": {},
   "outputs": [],
   "source": [
    "# Question 1: What is the median salary for Software Engineers in the United States?\n"
   ]
  },
  {
   "cell_type": "code",
   "execution_count": null,
   "metadata": {},
   "outputs": [],
   "source": [
    "# Question 2: Which US state has the highest average salary for tech workers?\n"
   ]
  },
  {
   "cell_type": "code",
   "execution_count": null,
   "metadata": {},
   "outputs": [],
   "source": [
    "# Question 3: How much does salary increase on average for each year of experience in tech?"
   ]
  },
  {
   "cell_type": "code",
   "execution_count": null,
   "metadata": {},
   "outputs": [],
   "source": [
    "\n",
    "# Question 4: What percentage of respondents work remotely vs. in-office?\n"
   ]
  },
  {
   "cell_type": "code",
   "execution_count": null,
   "metadata": {},
   "outputs": [],
   "source": [
    "# Question 5: Which industry (besides tech) has the highest median salary?"
   ]
  },
  {
   "cell_type": "code",
   "execution_count": null,
   "metadata": {},
   "outputs": [],
   "source": [
    "# Bonus Questions:\n",
    "# Question 6: What's the salary gap between men and women in similar roles?\n",
    "# Question 7: Do people with Master's degrees earn significantly more than those with Bachelor's degrees?\n",
    "# Question 8: Which company size (startup, medium, large) pays the most on average?"
   ]
  },
  {
   "cell_type": "markdown",
   "metadata": {},
   "source": [
    "## Final Summary\n",
    "\n",
    "**Summarize your findings here:**\n",
    "\n",
    "1. **Median salary for Software Engineers in US:** $X\n",
    "2. **Highest paying US state for tech:** State Name\n",
    "3. **Salary increase per year of experience:** $X per year\n",
    "4. **Remote vs office percentage:** X% remote, Y% office\n",
    "5. **Highest paying non-tech industry:** Industry Name\n",
    "\n",
    "**Key insights:**\n",
    "- Insight 1\n",
    "- Insight 2\n",
    "- Insight 3\n",
    "\n",
    "**Challenges faced:**\n",
    "- Challenge 1 and how you solved it\n",
    "- Challenge 2 and how you solved it\n",
    "\n",
    "**What you learned about vibe coding:**\n",
    "- Learning 1\n",
    "- Learning 2\n",
    "- Learning 3\n"
   ]
  }
 ],
 "metadata": {
  "language_info": {
   "name": "python"
  }
 },
 "nbformat": 4,
 "nbformat_minor": 2
}
