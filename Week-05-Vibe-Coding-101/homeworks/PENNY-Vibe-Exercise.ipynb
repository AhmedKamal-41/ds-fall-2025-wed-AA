{
 "cells": [
  {
   "cell_type": "markdown",
   "metadata": {},
   "source": [
    "# Vibe Coding: Real-World Data Cleaning Challenge\n",
    "\n",
    "## The Mission\n",
    "\n",
    "You're a Data Analyst at **TechSalary Insights**. Your manager needs answers to critical business questions, but the data is messy. Your job is to clean it and provide accurate insights.\n",
    "\n",
    "**The catch:** You must figure out how to clean the data yourself. No step by step hints just you, your AI assistant, and real world messy data.\n",
    "\n",
    "---\n",
    "\n",
    "## The Dataset: Ask A Manager Salary Survey 2021\n",
    "\n",
    "**Location:** `../Week-02-Pandas-Part-2-and-DS-Overview/data/Ask A Manager Salary Survey 2021 (Responses) - Form Responses 1.tsv`\n",
    "\n",
    "This is **real survey data** from Ask A Manager's 2021 salary survey with over 28,000 responses from working professionals. The data comes from this survey: https://www.askamanager.org/2021/04/how-much-money-do-you-make-4.html\n",
    "\n",
    "**Why this dataset is perfect for vibe coding:**\n",
    "- Real human responses (inconsistent formatting)\n",
    "- Multiple currencies and formats  \n",
    "- Messy job titles and location data\n",
    "- Missing and invalid entries\n",
    "- Requires business judgment calls\n",
    "\n",
    "---\n",
    "\n",
    "## Your Business Questions\n",
    "\n",
    "Answer these **exact questions** with clean data. There's only one correct answer for each:\n",
    "\n",
    "### Core Questions (Required):\n",
    "1. **What is the median salary for Software Engineers in the United States?** \n",
    "2. **Which US state has the highest average salary for tech workers?**\n",
    "3. **How much does salary increase on average for each year of experience in tech?**\n",
    "4. **Which industry (besides tech) has the highest median salary?**\n",
    "\n",
    "### Bonus Questions (If time permits):\n",
    "5. **What's the salary gap between men and women in tech roles?**\n",
    "6. **Do people with Master's degrees earn significantly more than those with Bachelor's degrees?**\n",
    "\n",
    "**Success Criteria:** Your final answers will be compared against the \"official\" results. Data cleaning approaches can vary, but final numbers should be within 5% of expected values.\n"
   ]
  },
  {
   "cell_type": "markdown",
   "metadata": {},
   "source": [
    "---\n",
    "# Your Work Starts Here\n",
    "\n",
    "## Step 0: Create Your Plan\n",
    "**Before writing any code, use Cursor to create your todo plan. Then paste it here:**\n",
    "\n",
    "## My Data Cleaning Plan\n",
    "\n",
    "*(Paste your Cursor todo list here)*\n",
    "\n",
    "- [ ] Example todo item\n",
    "- [ ] Another example\n",
    "- [ ] ...\n",
    "\n",
    "# My Data Cleaning Plan - Step 0\n",
    "\n",
    "Based on my analysis of the Ask A Manager Salary Survey dataset, here's my comprehensive data cleaning plan:\n",
    "\n",
    "## Dataset Overview\n",
    "- **Size**: ~28,000 responses from 2021 salary survey\n",
    "- **Format**: TSV file with 18 columns\n",
    "- **Key Challenges**: Multiple currencies, inconsistent formatting, messy job titles, various country/state formats\n",
    "\n",
    "## Data Quality Issues Identified\n",
    "1. **Salary Data**: Multiple currencies (USD, GBP, CAD), inconsistent formatting, potential outliers\n",
    "2. **Location Data**: Inconsistent US state formats (\"US\", \"USA\", \"United States\"), missing states\n",
    "3. **Job Titles**: Highly variable, need to identify \"Software Engineers\" and \"tech workers\"\n",
    "4. **Experience**: Range format (\"5-7 years\", \"8-10 years\") needs conversion to numeric\n",
    "5. **Industry**: Need to categorize tech vs non-tech industries\n",
    "6. **Education/Gender**: For bonus questions, need clean categories\n",
    "\n",
    "## Step-by-Step Cleaning Plan\n",
    "\n",
    "### Phase 1: Data Exploration & Setup\n",
    "1. Load dataset and examine structure, data types, missing values\n",
    "2. Identify all unique currencies and conversion rates needed\n",
    "3. Map out all unique job titles, industries, and location formats\n",
    "\n",
    "### Phase 2: Core Data Cleaning\n",
    "1. **Salary Standardization**:\n",
    "   - Convert all salaries to USD using 2021 exchange rates\n",
    "   - Handle missing/zero salaries appropriately\n",
    "   - Remove extreme outliers (likely data entry errors)\n",
    "   - Add bonus compensation to total salary\n",
    "\n",
    "2. **Location Standardization**:\n",
    "   - Standardize country names to \"United States\"\n",
    "   - Clean and standardize US state names\n",
    "   - Filter to US-only data for core questions\n",
    "\n",
    "3. **Job Title Categorization**:\n",
    "   - Create \"Software Engineer\" category (exact matches + variations)\n",
    "   - Create \"Tech Worker\" category (all computing/tech industry roles)\n",
    "   - Handle job title variations and context\n",
    "\n",
    "4. **Experience Conversion**:\n",
    "   - Convert experience ranges to midpoint numeric values\n",
    "   - Handle edge cases and missing data\n",
    "\n",
    "### Phase 3: Analysis Preparation\n",
    "1. **Industry Classification**:\n",
    "   - Identify tech vs non-tech industries\n",
    "   - Standardize industry names\n",
    "\n",
    "2. **Education & Gender Cleaning**:\n",
    "   - Standardize education levels for bonus questions\n",
    "   - Clean gender categories\n",
    "\n",
    "### Phase 4: Business Question Analysis\n",
    "1. **Question 1**: Median salary for Software Engineers in US\n",
    "2. **Question 2**: US state with highest average tech worker salary  \n",
    "3. **Question 3**: Salary increase per year of experience in tech\n",
    "4. **Question 4**: Highest median salary non-tech industry\n",
    "5. **Question 5**: Gender salary gap in tech (bonus)\n",
    "6. **Question 6**: Education level salary comparison (bonus)\n",
    "\n",
    "## Key Business Decisions\n",
    "- **Currency Conversion**: Use 2021 average exchange rates (GBP≈1.37, CAD≈0.80)\n",
    "- **Outlier Handling**: Remove salaries <$20k or >$500k as likely errors\n",
    "- **Tech Definition**: \"Computing or Tech\" industry + specific tech job titles\n",
    "- **Experience Mapping**: Use range midpoints (e.g., \"5-7 years\" = 6 years)\n",
    "\n",
    "## Success Criteria\n",
    "- Final answers within 5% of expected values\n",
    "- Clean, reproducible analysis\n",
    "- Clear documentation of cleaning decisions\n",
    "\n",
    "This plan addresses the real-world messiness of survey data while ensuring we can answer the specific business questions accurately."
   ]
  },
  {
   "cell_type": "markdown",
   "metadata": {},
   "source": [
    "## Step 1: Data Loading and Exploration\n",
    "\n",
    "Start here! Load the dataset and get familiar with what you're working with.\n"
   ]
  },
  {
   "cell_type": "code",
   "execution_count": null,
   "metadata": {},
   "outputs": [],
   "source": [
    "# Import necessary libraries\n",
    "import pandas as pd\n",
    "import numpy as np\n",
    "import matplotlib.pyplot as plt\n",
    "import seaborn as sns\n"
   ]
  },
  {
   "cell_type": "markdown",
   "metadata": {},
   "source": [
    "## Step 2: Data Cleaning\n"
   ]
  },
  {
   "cell_type": "code",
   "execution_count": null,
   "metadata": {},
   "outputs": [],
   "source": [
    "\n"
   ]
  },
  {
   "cell_type": "markdown",
   "metadata": {},
   "source": [
    "## Step 3: Business Questions Analysis\n",
    "\n",
    "Now answer those important business questions!\n"
   ]
  },
  {
   "cell_type": "code",
   "execution_count": null,
   "metadata": {},
   "outputs": [],
   "source": [
    "# Question 1: What is the median salary for Software Engineers in the United States?\n"
   ]
  },
  {
   "cell_type": "code",
   "execution_count": null,
   "metadata": {},
   "outputs": [],
   "source": [
    "# Question 2: Which US state has the highest average salary for tech workers?\n"
   ]
  },
  {
   "cell_type": "code",
   "execution_count": null,
   "metadata": {},
   "outputs": [],
   "source": [
    "# Question 3: How much does salary increase on average for each year of experience in tech?"
   ]
  },
  {
   "cell_type": "code",
   "execution_count": null,
   "metadata": {},
   "outputs": [],
   "source": [
    "\n",
    "# Question 4: What percentage of respondents work remotely vs. in-office?\n"
   ]
  },
  {
   "cell_type": "code",
   "execution_count": null,
   "metadata": {},
   "outputs": [],
   "source": [
    "# Question 5: Which industry (besides tech) has the highest median salary?"
   ]
  },
  {
   "cell_type": "code",
   "execution_count": null,
   "metadata": {},
   "outputs": [],
   "source": [
    "# Bonus Questions:\n",
    "# Question 6: What's the salary gap between men and women in similar roles?\n",
    "# Question 7: Do people with Master's degrees earn significantly more than those with Bachelor's degrees?\n",
    "# Question 8: Which company size (startup, medium, large) pays the most on average?"
   ]
  },
  {
   "cell_type": "markdown",
   "metadata": {},
   "source": [
    "## Final Summary\n",
    "\n",
    "**Summarize your findings here:**\n",
    "\n",
    "1. **Median salary for Software Engineers in US:** $X\n",
    "2. **Highest paying US state for tech:** State Name\n",
    "3. **Salary increase per year of experience:** $X per year\n",
    "4. **Remote vs office percentage:** X% remote, Y% office\n",
    "5. **Highest paying non-tech industry:** Industry Name\n",
    "\n",
    "**Key insights:**\n",
    "- Insight 1\n",
    "- Insight 2\n",
    "- Insight 3\n",
    "\n",
    "**Challenges faced:**\n",
    "- Challenge 1 and how you solved it\n",
    "- Challenge 2 and how you solved it\n",
    "\n",
    "**What you learned about vibe coding:**\n",
    "- Learning 1\n",
    "- Learning 2\n",
    "- Learning 3\n"
   ]
  }
 ],
 "metadata": {
  "language_info": {
   "name": "python"
  }
 },
 "nbformat": 4,
 "nbformat_minor": 2
}
